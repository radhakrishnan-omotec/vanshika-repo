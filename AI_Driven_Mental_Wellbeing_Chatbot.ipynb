
{
 "cells": [
  {
   "cell_type": "markdown",
   "metadata": {},
   "source": [
    "# Developing an AI-Driven Chatbot - Application for Mental Well-being Support"
   ]
  },
  {
   "cell_type": "code",
   "execution_count": null,
   "metadata": {},
   "outputs": [],
   "source": [
    "# Importing Required Libraries\n",
    "import streamlit as st\n",
    "import pandas as pd\n",
    "import matplotlib.pyplot as plt\n",
    "from datetime import datetime\n",
    "from textblob import TextBlob"
   ]
  },
  {
   "cell_type": "markdown",
   "metadata": {},
   "source": [
    "## Function to analyze mood using TextBlob"
   ]
  },
  {
   "cell_type": "code",
   "execution_count": null,
   "metadata": {},
   "outputs": [],
   "source": [
    "def analyze_mood(user_input):\n",
    "    blob = TextBlob(user_input)\n",
    "    polarity = blob.sentiment.polarity\n",
    "    if polarity > 0.5:\n",
    "        mood = \"Very Happy\"\n",
    "    elif polarity > 0:\n",
    "        mood = \"Happy\"\n",
    "    elif polarity == 0:\n",
    "        mood = \"Neutral\"\n",
    "    elif polarity < -0.5:\n",
    "        mood = \"Very Sad\"\n",
    "    else:\n",
    "        mood = \"Sad\"\n",
    "    return mood, abs(polarity)"
   ]
  },
  {
   "cell_type": "markdown",
   "metadata": {},
   "source": [
    "## Define chatbot responses based on mood levels"
   ]
  },
  {
   "cell_type": "code",
   "execution_count": null,
   "metadata": {},
   "outputs": [],
   "source": [
    "def chatbot_response(user_input):\n",
    "    mood, score = analyze_mood(user_input)\n",
    "    response = \"\"\n",
    "    if mood == \"Very Happy\":\n",
    "        response = \"You seem to be in great spirits! Keep shining and spread the positivity.\"\n",
    "    elif mood == \"Happy\":\n",
    "        response = \"I'm glad to hear you're feeling good. What made your day brighter?\"\n",
    "    elif mood == \"Neutral\":\n",
    "        response = \"It seems like you're feeling okay. Let me know if there's something specific you'd like to talk about.\"\n",
    "    elif mood == \"Sad\":\n",
    "        response = \"I'm here to listen. It's okay to feel down sometimes. What's been on your mind?\"\n",
    "    elif mood == \"Very Sad\":\n",
    "        response = \"I'm sorry to hear that you're feeling this way. Please know you're not alone. How can I support you?\"\n",
    "    return f\"{response}\n\nMood: {mood}, Confidence: {score:.2f}\""
   ]
  },
  {
   "cell_type": "markdown",
   "metadata": {},
   "source": [
    "## Function to save mood data"
   ]
  },
  {
   "cell_type": "code",
   "execution_count": null,
   "metadata": {},
   "outputs": [],
   "source": [
    "def save_mood_data(user_input):\n",
    "    mood, score = analyze_mood(user_input)\n",
    "    timestamp = datetime.now().strftime('%Y-%m-%d %H:%M:%S')\n",
    "    data = {'Timestamp': [timestamp], 'Input': [user_input], 'Mood': [mood], 'Confidence': [score]}\n",
    "    df = pd.DataFrame(data)\n",
    "    df.to_csv('mood_tracking_data.csv', mode='a', header=not pd.io.common.file_exists('mood_tracking_data.csv'), index=False)\n",
    "    return mood"
   ]
  },
  {
   "cell_type": "markdown",
   "metadata": {},
   "source": [
    "## Function to visualize mood trends"
   ]
  },
  {
   "cell_type": "code",
   "execution_count": null,
   "metadata": {},
   "outputs": [],
   "source": [
    "def plot_mood_trends():\n",
    "    df = pd.read_csv('mood_tracking_data.csv')\n",
    "    df['Timestamp'] = pd.to_datetime(df['Timestamp'])\n",
    "    df['Date'] = df['Timestamp'].dt.date\n",
    "    mood_counts = df.groupby('Date')['Mood'].value_counts().unstack().fillna(0)\n",
    "    mood_counts.plot(kind='bar', stacked=True, figsize=(10, 6))\n",
    "    plt.title('Mood Trends Over Time')\n",
    "    plt.xlabel('Date')\n",
    "    plt.ylabel('Mood Count')\n",
    "    plt.legend(title=\"Moods\")\n",
    "    st.pyplot(plt)"
   ]
  },
  {
   "cell_type": "markdown",
   "metadata": {},
   "source": [
    "## Streamlit App"
   ]
  },
  {
   "cell_type": "code",
   "execution_count": null,
   "metadata": {},
   "outputs": [],
   "source": [
    "st.title(\"AI-Driven Mental Well-being Chatbot\")\n",
    "st.write(\"Chatbot providing mood-specific responses and tracking trends over time.\")\n",
    "user_input = st.text_input(\"How are you feeling today?\", \"\")\n",
    "if user_input:\n",
    "    mood_response = chatbot_response(user_input)\n",
    "    st.write(mood_response)\n",
    "    save_mood_data(user_input)\n",
    "if st.button(\"Show Mood Trends\"):\n",
    "    plot_mood_trends()"
   ]
  }
 ],
 "metadata": {
  "kernelspec": {
   "display_name": "Python 3",
   "language": "python",
   "name": "python3"
  },
  "language_info": {
   "codemirror_mode": {
    "name": "ipython",
    "version": 3
   },
   "file_extension": ".py",
   "mimetype": "text/x-python",
   "name": "python",
   "nbconvert_exporter": "python",
   "pygments_lexer": "ipython3",
   "version": "3.8.10"
  }
 },
 "nbformat": 4,
 "nbformat_minor": 5
}
