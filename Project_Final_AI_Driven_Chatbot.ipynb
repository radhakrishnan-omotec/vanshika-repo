{
  "nbformat": 4,
  "nbformat_minor": 0,
  "metadata": {
    "colab": {
      "provenance": [],
      "authorship_tag": "ABX9TyO4iGoH9kTJgBvHaqz528kZ",
      "include_colab_link": true
    },
    "kernelspec": {
      "name": "python3",
      "display_name": "Python 3"
    },
    "language_info": {
      "name": "python"
    }
  },
  "cells": [
    {
      "cell_type": "markdown",
      "metadata": {
        "id": "view-in-github",
        "colab_type": "text"
      },
      "source": [
        "<a href=\"https://colab.research.google.com/github/radhakrishnan-omotec/chatgpt-repo/blob/main/Project_Final_AI_Driven_Chatbot.ipynb\" target=\"_parent\"><img src=\"https://colab.research.google.com/assets/colab-badge.svg\" alt=\"Open In Colab\"/></a>"
      ]
    },
    {
      "cell_type": "markdown",
      "source": [
        "# Developing an AI-Driven Chatbot - Application for Mental Well-being Support"
      ],
      "metadata": {
        "id": "o_ewgxZ6Oky7"
      }
    },
    {
      "cell_type": "markdown",
      "source": [
        "## Project Overview\n",
        "This project develops an AI-driven chatbot application offering personalized mental health support, mood tracking, and customized activities to promote well-being. It leverages NLP and ML to engage users in empathetic conversational interactions and generate evidence-based recommendations tailored to their specific needs.\n",
        "\n",
        "---"
      ],
      "metadata": {
        "id": "CrRYyq6pOoCz"
      }
    },
    {
      "cell_type": "markdown",
      "source": [
        "## Problem Statement\n",
        "Mental health issues, such as anxiety and depression, affect millions globally. Access to mental health support is often limited due to stigma, cost, and availability. This project addresses these challenges by developing an accessible AI-driven chatbot.\n",
        "\n",
        "---"
      ],
      "metadata": {
        "id": "yQ4A_aDvOqEp"
      }
    },
    {
      "cell_type": "markdown",
      "source": [
        "## Importance\n",
        "By bridging the gap between individuals and mental health resources, this project:\n",
        "- Reduces the burden on professionals\n",
        "- Lowers the cost of services\n",
        "- Provides immediate support for those who may not seek traditional help.\n",
        "\n",
        "---"
      ],
      "metadata": {
        "id": "1QWHzO2wOr1k"
      }
    },
    {
      "cell_type": "markdown",
      "source": [
        "## Research Approach\n",
        "1. Review existing research on AI-driven mental health chatbots.\n",
        "2. Develop a chatbot incorporating NLP, ML, mood tracking, and personalized recommendations.\n",
        "3. Conduct a small-scale pilot study to test usability and acceptability.\n",
        "4. Analyze the collected data statistically to validate hypotheses.\n",
        "\n",
        "---"
      ],
      "metadata": {
        "id": "qn2EKQ8bOukc"
      }
    },
    {
      "cell_type": "markdown",
      "source": [
        "### Methodology\n",
        "\n",
        "#### Step 1: Setting up the Environment\n",
        "Install required libraries for NLP and chatbot functionality."
      ],
      "metadata": {
        "id": "zCpQ3yZFOzeY"
      }
    },
    {
      "cell_type": "code",
      "execution_count": null,
      "metadata": {
        "id": "THuYNs2AOc_Z"
      },
      "outputs": [],
      "source": [
        "# Install necessary libraries\n",
        "!pip install transformers gradio"
      ]
    },
    {
      "cell_type": "markdown",
      "source": [
        "#### Step 2: Importing Required Libraries"
      ],
      "metadata": {
        "id": "xf9tqSuAO7dA"
      }
    },
    {
      "cell_type": "code",
      "source": [
        "# Importing libraries\n",
        "from transformers import pipeline\n",
        "import gradio as gr"
      ],
      "metadata": {
        "id": "DunIAiz8O87Z"
      },
      "execution_count": null,
      "outputs": []
    },
    {
      "cell_type": "markdown",
      "source": [
        "#### Step 3: Sentiment Analysis for Mood Tracking"
      ],
      "metadata": {
        "id": "eycw88buO-0F"
      }
    },
    {
      "cell_type": "code",
      "source": [
        "# Load a sentiment-analysis pipeline for mood tracking\n",
        "sentiment_analyzer = pipeline(\"sentiment-analysis\")\n",
        "\n",
        "# Example function for mood tracking\n",
        "def analyze_mood(user_input):\n",
        "    analysis = sentiment_analyzer(user_input)\n",
        "    mood = analysis[0]['label']\n",
        "    confidence = analysis[0]['score']\n",
        "    return f\"Mood: {mood}, Confidence: {confidence:.2f}\"\n",
        "\n",
        "# Test the sentiment analysis\n",
        "test_input = \"I feel really overwhelmed and stressed today.\"\n",
        "print(analyze_mood(test_input))"
      ],
      "metadata": {
        "id": "OQpMCh_7PAUZ"
      },
      "execution_count": null,
      "outputs": []
    },
    {
      "cell_type": "markdown",
      "source": [
        "#### Step 4: Designing the Chatbot"
      ],
      "metadata": {
        "id": "Ndr2aSUDPCqz"
      }
    },
    {
      "cell_type": "code",
      "source": [
        "# Define a chatbot function\n",
        "\n",
        "def chatbot_response(user_input):\n",
        "    # Analyze mood\n",
        "    mood_analysis = analyze_mood(user_input)\n",
        "\n",
        "    # Generate a basic empathetic response\n",
        "    if \"sad\" in mood_analysis.lower() or \"negative\" in mood_analysis.lower():\n",
        "        response = \"I'm sorry to hear that. Remember, it's okay to have tough days. How can I assist you further?\"\n",
        "    elif \"happy\" in mood_analysis.lower() or \"positive\" in mood_analysis.lower():\n",
        "        response = \"That's wonderful! Keep up the positive vibes. How can I support you today?\"\n",
        "    else:\n",
        "        response = \"Thank you for sharing. Let's work together to improve your day.\"\n",
        "\n",
        "    return f\"{response}\\n\\n{mood_analysis}\""
      ],
      "metadata": {
        "id": "aCpe02vGPEO5"
      },
      "execution_count": null,
      "outputs": []
    },
    {
      "cell_type": "markdown",
      "source": [
        "### Test the chatbot function"
      ],
      "metadata": {
        "id": "AUOGXvvxPHKJ"
      }
    },
    {
      "cell_type": "code",
      "source": [
        "# Test the chatbot function\n",
        "print(chatbot_response(\"I feel excited and happy today!\"))"
      ],
      "metadata": {
        "id": "aWUTGLjuPMQv"
      },
      "execution_count": null,
      "outputs": []
    },
    {
      "cell_type": "markdown",
      "source": [
        "### Step 5: Deploying the Chatbot with Gradio"
      ],
      "metadata": {
        "id": "hrVp96YIPJgT"
      }
    },
    {
      "cell_type": "code",
      "source": [
        "# Define a Gradio interface\n",
        "def chatbot_interface(user_input):\n",
        "    return chatbot_response(user_input)\n",
        "\n",
        "interface = gr.Interface(\n",
        "    fn=chatbot_interface,\n",
        "    inputs=\"text\",\n",
        "    outputs=\"text\",\n",
        "    title=\"AI-Driven Mental Well-being Chatbot\",\n",
        "    description=\"A chatbot providing personalized mental health support and mood tracking.\"\n",
        ")"
      ],
      "metadata": {
        "id": "6xgPkDh6PPxc"
      },
      "execution_count": null,
      "outputs": []
    },
    {
      "cell_type": "code",
      "source": [
        "# Launch the interface\n",
        "interface.launch()"
      ],
      "metadata": {
        "id": "pJIeIHGTPTRH"
      },
      "execution_count": null,
      "outputs": []
    },
    {
      "cell_type": "markdown",
      "source": [
        "### ENHANCEMENTS\n",
        "1. Incorporate mood tracking visualization.\n",
        "2. Enhance the chatbot with a database of evidence-based recommendations."
      ],
      "metadata": {
        "id": "_Hw71QUIPU-R"
      }
    },
    {
      "cell_type": "markdown",
      "source": [
        "# ENHANCEMENT - 1"
      ],
      "metadata": {
        "id": "5G3-ax6NPZHT"
      }
    },
    {
      "cell_type": "markdown",
      "source": [
        "### Step 1: Data Collection Setup\n"
      ],
      "metadata": {
        "id": "0Zmga20oQUu7"
      }
    },
    {
      "cell_type": "code",
      "source": [
        "import tkinter as tk\n",
        "from tkinter import simpledialog\n",
        "\n",
        "# Function to collect mood data\n",
        "def collect_mood():\n",
        "    root = tk.Tk()\n",
        "    root.withdraw()\n",
        "    mood = simpledialog.askstring(\"Mood Tracker\", \"How do you feel today? (Happy, Sad, Stressed, etc.)\")\n",
        "    return mood\n",
        "\n",
        "mood = collect_mood()\n",
        "print(f\"Mood Collected: {mood}\")"
      ],
      "metadata": {
        "id": "VIPoSHytQXeE"
      },
      "execution_count": null,
      "outputs": []
    },
    {
      "cell_type": "markdown",
      "source": [
        "### Step 2: Data Storage and Management"
      ],
      "metadata": {
        "id": "1CIeFmiMQbDR"
      }
    },
    {
      "cell_type": "code",
      "source": [
        "# Step 2: Data Storage and Management\n",
        "import pandas as pd\n",
        "from datetime import datetime\n",
        "\n",
        "def save_mood(mood):\n",
        "    timestamp = datetime.now().strftime('%Y-%m-%d %H:%M:%S')\n",
        "    data = {'Mood': [mood], 'Timestamp': [timestamp]}\n",
        "    df = pd.DataFrame(data)\n",
        "    df.to_csv('mood_data.csv', mode='a', header=not pd.io.common.file_exists('mood_data.csv'), index=False)\n",
        "\n",
        "save_mood(mood)"
      ],
      "metadata": {
        "id": "k4qmlO_oQdxY"
      },
      "execution_count": null,
      "outputs": []
    },
    {
      "cell_type": "markdown",
      "source": [
        "### Step 3: Data Analysis and Processing"
      ],
      "metadata": {
        "id": "qbiRHfumQgZ1"
      }
    },
    {
      "cell_type": "code",
      "source": [
        "def load_and_analyze_data():\n",
        "    df = pd.read_csv('mood_data.csv')\n",
        "    print(\"Mood Frequency Analysis:\\n\")\n",
        "    print(df['Mood'].value_counts())\n",
        "\n"
      ],
      "metadata": {
        "id": "7o5J1aHKQjW3"
      },
      "execution_count": null,
      "outputs": []
    },
    {
      "cell_type": "code",
      "source": [
        "load_and_analyze_data()"
      ],
      "metadata": {
        "id": "aha9kFSbQl1u"
      },
      "execution_count": null,
      "outputs": []
    },
    {
      "cell_type": "markdown",
      "source": [
        "### Step 4: Visualization Implementation"
      ],
      "metadata": {
        "id": "nDa9kKZzQmcn"
      }
    },
    {
      "cell_type": "code",
      "source": [
        "import matplotlib.pyplot as plt\n",
        "import seaborn as sns\n",
        "\n",
        "def plot_mood_trends():\n",
        "    df = pd.read_csv('mood_data.csv')\n",
        "    df['Timestamp'] = pd.to_datetime(df['Timestamp'])\n",
        "    df['Date'] = df['Timestamp'].dt.date\n",
        "    mood_counts = df.groupby('Date')['Mood'].value_counts().unstack().fillna(0)\n",
        "    mood_counts.plot(kind='bar', stacked=True, figsize=(10, 6))\n",
        "    plt.title('Mood Trends Over Time')\n",
        "    plt.xlabel('Date')\n",
        "    plt.ylabel('Frequency')\n",
        "    plt.show()"
      ],
      "metadata": {
        "id": "koGB6-NYQo9g"
      },
      "execution_count": null,
      "outputs": []
    },
    {
      "cell_type": "code",
      "source": [
        "plot_mood_trends()"
      ],
      "metadata": {
        "id": "FjQEn6AgQrbA"
      },
      "execution_count": null,
      "outputs": []
    },
    {
      "cell_type": "markdown",
      "source": [
        "### Step 5: Dashboard Integration"
      ],
      "metadata": {
        "id": "uyfEw8tjQu3J"
      }
    },
    {
      "cell_type": "code",
      "source": [
        "import streamlit as st\n",
        "\n",
        "def mood_dashboard():\n",
        "    df = pd.read_csv('mood_data.csv')\n",
        "    st.title(\"Mood Tracking Dashboard\")\n",
        "    st.write(df)\n",
        "    plot_mood_trends()"
      ],
      "metadata": {
        "id": "eBQfNZVVQvx1"
      },
      "execution_count": null,
      "outputs": []
    },
    {
      "cell_type": "code",
      "source": [
        "# Run the line below to run the Streamlit dashboard\n",
        "mood_dashboard()"
      ],
      "metadata": {
        "id": "DO56kHFGQzi0"
      },
      "execution_count": null,
      "outputs": []
    }
  ]
}